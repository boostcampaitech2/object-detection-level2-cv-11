{
 "cells": [
  {
   "cell_type": "code",
   "execution_count": 1,
   "id": "90349f0b-6252-4879-bd3d-f958e82e530f",
   "metadata": {},
   "outputs": [],
   "source": [
    "import pandas as pd\n",
    "import numpy as np\n",
    "import json\n",
    "import seaborn as sns\n",
    "import os\n",
    "import cv2\n",
    "from matplotlib import pyplot as plt"
   ]
  },
  {
   "cell_type": "markdown",
   "id": "33afb651-b9f4-490b-9d0a-03b2ed02b383",
   "metadata": {},
   "source": [
    "### train.json bbox 40이상 있는 image 제거"
   ]
  },
  {
   "cell_type": "code",
   "execution_count": 55,
   "id": "1d582004-99b2-4229-8de1-a486d0af4cf7",
   "metadata": {},
   "outputs": [
    {
     "data": {
      "text/plain": [
       "'../dataset/train.json'"
      ]
     },
     "execution_count": 55,
     "metadata": {},
     "output_type": "execute_result"
    }
   ],
   "source": [
    "data_json = '../dataset/train.json'\n",
    "data_json"
   ]
  },
  {
   "cell_type": "code",
   "execution_count": 114,
   "id": "86d4d191-affe-4be8-8002-313669219355",
   "metadata": {},
   "outputs": [],
   "source": [
    "with open(data_json, 'r') as outfile:\n",
    "    data = (json.load(outfile))\n",
    "\n",
    "df_image = pd.DataFrame(data['images']) #이미지 데이터\n",
    "df_annotation = pd.DataFrame(data['annotations']) #bbox \n",
    "df_categories = pd.DataFrame(data['categories'])#categories"
   ]
  },
  {
   "cell_type": "code",
   "execution_count": 116,
   "id": "571be756-f9fe-4078-8ef0-61cf9d8584ea",
   "metadata": {},
   "outputs": [
    {
     "data": {
      "text/html": [
       "<div>\n",
       "<style scoped>\n",
       "    .dataframe tbody tr th:only-of-type {\n",
       "        vertical-align: middle;\n",
       "    }\n",
       "\n",
       "    .dataframe tbody tr th {\n",
       "        vertical-align: top;\n",
       "    }\n",
       "\n",
       "    .dataframe thead th {\n",
       "        text-align: right;\n",
       "    }\n",
       "</style>\n",
       "<table border=\"1\" class=\"dataframe\">\n",
       "  <thead>\n",
       "    <tr style=\"text-align: right;\">\n",
       "      <th></th>\n",
       "      <th>width</th>\n",
       "      <th>height</th>\n",
       "      <th>file_name</th>\n",
       "      <th>license</th>\n",
       "      <th>flickr_url</th>\n",
       "      <th>coco_url</th>\n",
       "      <th>date_captured</th>\n",
       "      <th>id</th>\n",
       "    </tr>\n",
       "  </thead>\n",
       "  <tbody>\n",
       "    <tr>\n",
       "      <th>4878</th>\n",
       "      <td>1024</td>\n",
       "      <td>1024</td>\n",
       "      <td>train/4878.jpg</td>\n",
       "      <td>0</td>\n",
       "      <td>None</td>\n",
       "      <td>None</td>\n",
       "      <td>2021-01-04 14:36:54</td>\n",
       "      <td>4878</td>\n",
       "    </tr>\n",
       "    <tr>\n",
       "      <th>4879</th>\n",
       "      <td>1024</td>\n",
       "      <td>1024</td>\n",
       "      <td>train/4879.jpg</td>\n",
       "      <td>0</td>\n",
       "      <td>None</td>\n",
       "      <td>None</td>\n",
       "      <td>2021-04-27 13:46:18</td>\n",
       "      <td>4879</td>\n",
       "    </tr>\n",
       "    <tr>\n",
       "      <th>4880</th>\n",
       "      <td>1024</td>\n",
       "      <td>1024</td>\n",
       "      <td>train/4880.jpg</td>\n",
       "      <td>0</td>\n",
       "      <td>None</td>\n",
       "      <td>None</td>\n",
       "      <td>2020-12-24 11:25:46</td>\n",
       "      <td>4880</td>\n",
       "    </tr>\n",
       "    <tr>\n",
       "      <th>4881</th>\n",
       "      <td>1024</td>\n",
       "      <td>1024</td>\n",
       "      <td>train/4881.jpg</td>\n",
       "      <td>0</td>\n",
       "      <td>None</td>\n",
       "      <td>None</td>\n",
       "      <td>2021-01-05 11:01:18</td>\n",
       "      <td>4881</td>\n",
       "    </tr>\n",
       "    <tr>\n",
       "      <th>4882</th>\n",
       "      <td>1024</td>\n",
       "      <td>1024</td>\n",
       "      <td>train/4882.jpg</td>\n",
       "      <td>0</td>\n",
       "      <td>None</td>\n",
       "      <td>None</td>\n",
       "      <td>2020-12-23 16:20:30</td>\n",
       "      <td>4882</td>\n",
       "    </tr>\n",
       "  </tbody>\n",
       "</table>\n",
       "</div>"
      ],
      "text/plain": [
       "      width  height       file_name  license flickr_url coco_url  \\\n",
       "4878   1024    1024  train/4878.jpg        0       None     None   \n",
       "4879   1024    1024  train/4879.jpg        0       None     None   \n",
       "4880   1024    1024  train/4880.jpg        0       None     None   \n",
       "4881   1024    1024  train/4881.jpg        0       None     None   \n",
       "4882   1024    1024  train/4882.jpg        0       None     None   \n",
       "\n",
       "            date_captured    id  \n",
       "4878  2021-01-04 14:36:54  4878  \n",
       "4879  2021-04-27 13:46:18  4879  \n",
       "4880  2020-12-24 11:25:46  4880  \n",
       "4881  2021-01-05 11:01:18  4881  \n",
       "4882  2020-12-23 16:20:30  4882  "
      ]
     },
     "execution_count": 116,
     "metadata": {},
     "output_type": "execute_result"
    }
   ],
   "source": [
    "df_image.tail()"
   ]
  },
  {
   "cell_type": "code",
   "execution_count": 57,
   "id": "b229b62d-dd51-4a58-a14a-0ee4afec2c4d",
   "metadata": {},
   "outputs": [],
   "source": [
    "df_count = df_annotation['image_id'].value_counts().to_frame().rename(columns={'image_id':'counts'}).reset_index()\n",
    "df_img_over_40 = df_count.loc[df_count['counts'] > 30]\n",
    "df_o4_list = list(df_img_over_30['index']) #bbox 40이상 image list"
   ]
  },
  {
   "cell_type": "markdown",
   "id": "88fdb73d-1be7-412b-b2e5-7c69efb97d87",
   "metadata": {},
   "source": [
    "### annotation bbox 크기 2000이하 제거 "
   ]
  },
  {
   "cell_type": "code",
   "execution_count": 118,
   "id": "6674fb1f-3254-47d7-968f-3a1a4274ee76",
   "metadata": {},
   "outputs": [],
   "source": [
    "df_area_u_2000 = df_annotation.loc[df_annotation['area'] <= 2000]\n",
    "df_area_list = list(df_area_u_2000['id'])"
   ]
  },
  {
   "cell_type": "code",
   "execution_count": 120,
   "id": "026cf88e-17cd-4cac-871a-23200886aa2a",
   "metadata": {},
   "outputs": [
    {
     "data": {
      "text/plain": [
       "4831"
      ]
     },
     "execution_count": 120,
     "metadata": {},
     "output_type": "execute_result"
    }
   ],
   "source": [
    "images_list = []\n",
    "for obj in data['images']:\n",
    "    \n",
    "    if obj['id'] not in df_o4_list:\n",
    "        images_list.append(obj)\n",
    "len(images_list)"
   ]
  },
  {
   "cell_type": "code",
   "execution_count": 112,
   "id": "a50dca8b-bb69-4ea9-9122-c9675af6308b",
   "metadata": {},
   "outputs": [
    {
     "data": {
      "text/plain": [
       "20086"
      ]
     },
     "execution_count": 112,
     "metadata": {},
     "output_type": "execute_result"
    }
   ],
   "source": [
    "annotations_list = []\n",
    "for obj in data['annotations']:\n",
    "    \n",
    "    if obj['image_id'] not in df_o4_list and obj['id'] not in df_area_list:\n",
    "        annotations_list.append(obj)\n",
    "\n",
    "len(annotations_list)"
   ]
  },
  {
   "cell_type": "markdown",
   "id": "8173a8fa-650d-4a2c-9cae-c138181fb88e",
   "metadata": {},
   "source": [
    "## 새로운 json 저장"
   ]
  },
  {
   "cell_type": "code",
   "execution_count": 113,
   "id": "de89237e-44a5-4d28-855e-fd0ff963204a",
   "metadata": {},
   "outputs": [],
   "source": [
    "new_json = json.dumps({'images':images_list, 'annotations':annotations_list, 'categories':data['categories']})\n",
    "parsed_json = json.loads(new_json)\n",
    "\n",
    "file_path = '/opt/ml/detection/dataset/refined_train.json'\n",
    "\n",
    "with open(file_path, 'w') as outfile:\n",
    "    json.dump(parsed_json, outfile, indent=4)"
   ]
  },
  {
   "cell_type": "code",
   "execution_count": null,
   "id": "5bd6699c-242a-47ab-bc03-5af67ad00fb3",
   "metadata": {},
   "outputs": [],
   "source": []
  }
 ],
 "metadata": {
  "kernelspec": {
   "display_name": "Python 3 (ipykernel)",
   "language": "python",
   "name": "python3"
  },
  "language_info": {
   "codemirror_mode": {
    "name": "ipython",
    "version": 3
   },
   "file_extension": ".py",
   "mimetype": "text/x-python",
   "name": "python",
   "nbconvert_exporter": "python",
   "pygments_lexer": "ipython3",
   "version": "3.7.11"
  }
 },
 "nbformat": 4,
 "nbformat_minor": 5
}
