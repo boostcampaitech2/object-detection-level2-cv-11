{
 "cells": [
  {
   "cell_type": "code",
   "execution_count": 1,
   "id": "6450f208-4dba-4ac8-86c7-8af51e90ae92",
   "metadata": {},
   "outputs": [],
   "source": [
    "import pandas as pd\n",
    "import numpy as np\n",
    "import json\n",
    "import seaborn as sns\n",
    "import os\n",
    "import cv2\n",
    "import random\n",
    "from matplotlib import pyplot as plt\n",
    "from tqdm import tqdm"
   ]
  },
  {
   "cell_type": "markdown",
   "id": "10132805-c0e6-4b0c-93be-c97cbd244a71",
   "metadata": {},
   "source": [
    "## Mosaic\n",
    "\n",
    "### 구현 순서\n",
    "\n",
    "1. 순서대로 이미지를 뽑는다\n",
    "2. 뽑힌 이미지를 left-top으로 두고 랜덤으로 3개 이미지를 추출\n",
    "3. 추출된 이미지의 bbox좌표를 right-top -> left-bottom -> right-bottom 순으로 결합\n",
    "4. 각각 순서대로 bbox의 좌표이동"
   ]
  },
  {
   "cell_type": "code",
   "execution_count": 2,
   "id": "133a9142-5d65-4922-83be-c7ab4b5ae7e9",
   "metadata": {},
   "outputs": [],
   "source": [
    "base_dir = '/opt/ml/detection/dataset/'\n",
    "data_json = base_dir + 'train.json'"
   ]
  },
  {
   "cell_type": "code",
   "execution_count": 3,
   "id": "144f87f6-e7af-4af4-83cc-27f28bb6dca7",
   "metadata": {},
   "outputs": [],
   "source": [
    "#json 불러오기 + Dataframe형태로 변경\n",
    "with open (data_json, 'r') as outfile:\n",
    "    data = json.load(outfile)\n",
    "\n",
    "df_images = pd.DataFrame(data['images'])\n",
    "df_annotations = pd.DataFrame(data['annotations'])\n",
    "df_categories = pd.DataFrame(data['categories'])"
   ]
  },
  {
   "cell_type": "code",
   "execution_count": 4,
   "id": "1199a008-4b2b-4f57-bd86-d85b47c11b93",
   "metadata": {},
   "outputs": [
    {
     "data": {
      "text/html": [
       "<div>\n",
       "<style scoped>\n",
       "    .dataframe tbody tr th:only-of-type {\n",
       "        vertical-align: middle;\n",
       "    }\n",
       "\n",
       "    .dataframe tbody tr th {\n",
       "        vertical-align: top;\n",
       "    }\n",
       "\n",
       "    .dataframe thead th {\n",
       "        text-align: right;\n",
       "    }\n",
       "</style>\n",
       "<table border=\"1\" class=\"dataframe\">\n",
       "  <thead>\n",
       "    <tr style=\"text-align: right;\">\n",
       "      <th></th>\n",
       "      <th>width</th>\n",
       "      <th>height</th>\n",
       "      <th>file_name</th>\n",
       "      <th>license</th>\n",
       "      <th>flickr_url</th>\n",
       "      <th>coco_url</th>\n",
       "      <th>date_captured</th>\n",
       "      <th>id</th>\n",
       "    </tr>\n",
       "  </thead>\n",
       "  <tbody>\n",
       "    <tr>\n",
       "      <th>0</th>\n",
       "      <td>1024</td>\n",
       "      <td>1024</td>\n",
       "      <td>train/0000.jpg</td>\n",
       "      <td>0</td>\n",
       "      <td>None</td>\n",
       "      <td>None</td>\n",
       "      <td>2020-12-26 14:44:23</td>\n",
       "      <td>0</td>\n",
       "    </tr>\n",
       "    <tr>\n",
       "      <th>1</th>\n",
       "      <td>1024</td>\n",
       "      <td>1024</td>\n",
       "      <td>train/0001.jpg</td>\n",
       "      <td>0</td>\n",
       "      <td>None</td>\n",
       "      <td>None</td>\n",
       "      <td>2021-01-10 16:30:39</td>\n",
       "      <td>1</td>\n",
       "    </tr>\n",
       "  </tbody>\n",
       "</table>\n",
       "</div>"
      ],
      "text/plain": [
       "   width  height       file_name  license flickr_url coco_url  \\\n",
       "0   1024    1024  train/0000.jpg        0       None     None   \n",
       "1   1024    1024  train/0001.jpg        0       None     None   \n",
       "\n",
       "         date_captured  id  \n",
       "0  2020-12-26 14:44:23   0  \n",
       "1  2021-01-10 16:30:39   1  "
      ]
     },
     "execution_count": 4,
     "metadata": {},
     "output_type": "execute_result"
    }
   ],
   "source": [
    "mosaic_list = ['lt', 'rt', 'lb', 'rb']\n",
    "df_images.head(2)"
   ]
  },
  {
   "cell_type": "code",
   "execution_count": 5,
   "id": "eed65042-b7e6-42d6-a50a-0308d3b85735",
   "metadata": {},
   "outputs": [
    {
     "data": {
      "text/plain": [
       "'mosaic_train/0000.jpg'"
      ]
     },
     "execution_count": 5,
     "metadata": {},
     "output_type": "execute_result"
    }
   ],
   "source": [
    "df_images['mosaic_file_name'] = df_images['file_name'].str.replace('train', 'mosaic_train')\n",
    "df_images.loc[0, 'mosaic_file_name']"
   ]
  },
  {
   "cell_type": "code",
   "execution_count": 6,
   "id": "c7b16aa5-549c-4675-a4a7-0859e7fd9511",
   "metadata": {},
   "outputs": [],
   "source": [
    "df_images\n",
    "np.random.seed(2114) #RandomSeed 변경해주세요!"
   ]
  },
  {
   "cell_type": "code",
   "execution_count": 7,
   "id": "bd6b8027-016e-4e7c-83d8-6371bdf3efb2",
   "metadata": {},
   "outputs": [],
   "source": [
    "def make_save_image(image_idx_list):\n",
    "    \n",
    "    img_list = []\n",
    "    \n",
    "    for idx in image_idx_list:       \n",
    "        img = cv2.imread(base_dir + df_images.loc[idx, 'file_name'])\n",
    "        img = cv2.cvtColor(img, cv2.COLOR_BGR2RGB)\n",
    "        img_list.append(img)\n",
    "        \n",
    "    \n",
    "    img1 = np.hstack((img_list[0], img_list[1]))\n",
    "    img2 = np.hstack((img_list[2], img_list[3]))\n",
    "    \n",
    "    img = np.vstack((img1, img2))\n",
    "    \n",
    "    plt.imsave(base_dir +df_images.loc[img_idx_list[0], 'mosaic_file_name'], img)\n",
    "\n",
    "def append_anno(df_param, location):\n",
    "\n",
    "    anno_bboxes = list(df_param['bbox'])\n",
    "    \n",
    "    changed_bboxes = []\n",
    "    \n",
    "    if location != 'lt':\n",
    "        \n",
    "        if location == 'rt':\n",
    "    \n",
    "            for anno_bbox in anno_bboxes:\n",
    "                x = anno_bbox[0] +1024 \n",
    "                y = anno_bbox[1]\n",
    "                w = anno_bbox[2]\n",
    "                h = anno_bbox[3]\n",
    "                changed_bboxes.append([x, y, w, h])\n",
    "                \n",
    "        elif location == 'lb':\n",
    "          \n",
    "            for anno_bbox in anno_bboxes:\n",
    "                x = anno_bbox[0] \n",
    "                y = anno_bbox[1] +1024 \n",
    "                w = anno_bbox[2]\n",
    "                h = anno_bbox[3]\n",
    "                changed_bboxes.append([x, y, w, h])\n",
    "\n",
    "        elif location == 'rb':\n",
    "            \n",
    "            for anno_bbox in anno_bboxes:\n",
    "                x = anno_bbox[0] +1024\n",
    "                y = anno_bbox[1] +1024 \n",
    "                w = anno_bbox[2]\n",
    "                h = anno_bbox[3]\n",
    "                changed_bboxes.append([x, y, w, h]) \n",
    "         \n",
    "        df_new = df_param.drop('bbox', axis=1)\n",
    "        df_new['bbox'] = changed_bboxes\n",
    "        df_new['location'] = location\n",
    "    else:\n",
    "       \n",
    "        df_new = df_param\n",
    "        df_new['location'] = location\n",
    "\n",
    "    return df_new"
   ]
  },
  {
   "cell_type": "code",
   "execution_count": null,
   "id": "d1ba8b5e-3c6f-4837-bb6c-26c4b33cc48c",
   "metadata": {},
   "outputs": [
    {
     "name": "stderr",
     "output_type": "stream",
     "text": [
      "  0%|          | 0/4883 [00:00<?, ?it/s]/opt/conda/envs/detection/lib/python3.7/site-packages/ipykernel_launcher.py:22: SettingWithCopyWarning: \n",
      "A value is trying to be set on a copy of a slice from a DataFrame.\n",
      "Try using .loc[row_indexer,col_indexer] = value instead\n",
      "\n",
      "See the caveats in the documentation: https://pandas.pydata.org/pandas-docs/stable/user_guide/indexing.html#returning-a-view-versus-a-copy\n",
      "/opt/conda/envs/detection/lib/python3.7/site-packages/ipykernel_launcher.py:59: SettingWithCopyWarning: \n",
      "A value is trying to be set on a copy of a slice from a DataFrame.\n",
      "Try using .loc[row_indexer,col_indexer] = value instead\n",
      "\n",
      "See the caveats in the documentation: https://pandas.pydata.org/pandas-docs/stable/user_guide/indexing.html#returning-a-view-versus-a-copy\n",
      " 14%|█▍        | 701/4883 [03:53<22:57,  3.04it/s]"
     ]
    }
   ],
   "source": [
    "df_annotation_new = pd.DataFrame()\n",
    "for i in tqdm(range(len(df_images))): #df_images\n",
    "    \n",
    "    img_idx_list = []\n",
    "    img_idx = i\n",
    "    \n",
    "    original_image_id = df_images.loc[img_idx, 'id']\n",
    "    \n",
    "    for location in mosaic_list: #Randomly chosen 3 images\n",
    "        \n",
    "        if len(img_idx_list) == 0:\n",
    "            random_idx = img_idx\n",
    "        else:\n",
    "            random_idx = np.random.randint(len(df_images))\n",
    "        \n",
    "        ##image concatenation을 위한 index 저장\n",
    "        img_idx_list.append(random_idx)\n",
    "    \n",
    "        ##annotation 저장\n",
    "        image_id = df_images.loc[random_idx, 'id']\n",
    "        register_anno = df_annotations.loc[df_annotations['image_id']==image_id]\n",
    "        register_anno['image_id'] = original_image_id\n",
    "        df_new = append_anno(register_anno, location)\n",
    "        df_annotation_new = df_annotation_new.append(df_new, ignore_index=True)\n",
    "\n",
    "    #image 저장 dataset/mosaic/train/\n",
    "    df_images['mosaic_file_name'] = df_images['file_name'].str.replace('train', 'mosaic_train')\n",
    "    make_save_image(img_idx_list)"
   ]
  },
  {
   "cell_type": "code",
   "execution_count": null,
   "id": "16f4137a-6ade-4b60-b86b-c49a0dad5789",
   "metadata": {},
   "outputs": [],
   "source": [
    "df_annotations_new = df_annotation_new.sort_values(by='image_id')\n",
    "df_annotations_new['id'] = np.arange(len(df_annotations_new))\n",
    "df_annotations_new = df_annotations_new.drop(columns='location')\n",
    "df_annotations_new"
   ]
  },
  {
   "cell_type": "code",
   "execution_count": null,
   "id": "fa577175-9e06-47e4-8549-ee1d7335415c",
   "metadata": {},
   "outputs": [],
   "source": [
    "# 수정된 json 저장\n",
    "df_new_images = df_images.drop('file_name', axis=1)\n",
    "df_new_images['width'] = 2048\n",
    "df_new_images['height'] = 2048\n",
    "df_new_images = df_new_images.rename(columns={'mosaic_file_name':'file_name'})"
   ]
  },
  {
   "cell_type": "code",
   "execution_count": null,
   "id": "fe838cce-413e-403c-816c-3161f4056c06",
   "metadata": {},
   "outputs": [],
   "source": [
    "df_annotations_new"
   ]
  },
  {
   "cell_type": "code",
   "execution_count": null,
   "id": "bdb2d511-141f-4701-9b16-9792f28f7264",
   "metadata": {},
   "outputs": [],
   "source": [
    "new_images_json = df_new_images.to_json(orient = 'records')\n",
    "new_images_json = json.loads(new_images_json)\n",
    "\n",
    "new_anno_json = df_annotations_new.to_json(orient = 'records')\n",
    "new_anno_json = json.loads(new_anno_json)\n",
    "\n",
    "new_json = json.dumps({'images':new_images_json, 'annotations':new_anno_json, 'categories':data['categories']})\n",
    "parsed_json = json.loads(new_json)\n",
    "\n",
    "file_path = '/opt/ml/detection/dataset/mosaic_train.json'\n",
    "\n",
    "with open(file_path, 'w') as outfile:\n",
    "    json.dump(parsed_json, outfile, indent=4)"
   ]
  }
 ],
 "metadata": {
  "kernelspec": {
   "display_name": "Python 3 (ipykernel)",
   "language": "python",
   "name": "python3"
  },
  "language_info": {
   "codemirror_mode": {
    "name": "ipython",
    "version": 3
   },
   "file_extension": ".py",
   "mimetype": "text/x-python",
   "name": "python",
   "nbconvert_exporter": "python",
   "pygments_lexer": "ipython3",
   "version": "3.7.11"
  }
 },
 "nbformat": 4,
 "nbformat_minor": 5
}
