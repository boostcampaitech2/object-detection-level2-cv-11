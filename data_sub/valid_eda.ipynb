{
 "cells": [
  {
   "cell_type": "code",
   "execution_count": 44,
   "id": "e5e3c733-1f07-42d2-99b1-19d4e257f2db",
   "metadata": {},
   "outputs": [],
   "source": [
    "import pandas as pd\n",
    "import numpy as np\n",
    "import json\n",
    "import seaborn as sns\n",
    "import os\n",
    "import cv2\n",
    "from matplotlib import pyplot as plt"
   ]
  },
  {
   "cell_type": "code",
   "execution_count": 45,
   "id": "11e10d57-0745-416d-9d97-a8390e624dcb",
   "metadata": {},
   "outputs": [
    {
     "data": {
      "text/plain": [
       "'/opt/ml/detection/dataset/detector_test/result.bbox.json'"
      ]
     },
     "execution_count": 45,
     "metadata": {},
     "output_type": "execute_result"
    }
   ],
   "source": [
    "data_json_test = '/opt/ml/detection/dataset/detector_test/result.bbox.json'\n",
    "data_json_test"
   ]
  },
  {
   "cell_type": "code",
   "execution_count": 142,
   "id": "77a5619e-2382-4f25-a737-7759e4c6445c",
   "metadata": {},
   "outputs": [
    {
     "data": {
      "text/html": [
       "<div>\n",
       "<style scoped>\n",
       "    .dataframe tbody tr th:only-of-type {\n",
       "        vertical-align: middle;\n",
       "    }\n",
       "\n",
       "    .dataframe tbody tr th {\n",
       "        vertical-align: top;\n",
       "    }\n",
       "\n",
       "    .dataframe thead th {\n",
       "        text-align: right;\n",
       "    }\n",
       "</style>\n",
       "<table border=\"1\" class=\"dataframe\">\n",
       "  <thead>\n",
       "    <tr style=\"text-align: right;\">\n",
       "      <th></th>\n",
       "      <th>image_id</th>\n",
       "      <th>bbox</th>\n",
       "      <th>score</th>\n",
       "      <th>category_id</th>\n",
       "    </tr>\n",
       "  </thead>\n",
       "  <tbody>\n",
       "    <tr>\n",
       "      <th>0</th>\n",
       "      <td>13</td>\n",
       "      <td>[13.387908935546875, 471.632080078125, 76.5023...</td>\n",
       "      <td>0.609177</td>\n",
       "      <td>0</td>\n",
       "    </tr>\n",
       "    <tr>\n",
       "      <th>1</th>\n",
       "      <td>13</td>\n",
       "      <td>[8.561347961425781, 153.53492736816406, 78.640...</td>\n",
       "      <td>0.456528</td>\n",
       "      <td>7</td>\n",
       "    </tr>\n",
       "    <tr>\n",
       "      <th>2</th>\n",
       "      <td>13</td>\n",
       "      <td>[606.560302734375, 42.02838134765625, 104.2189...</td>\n",
       "      <td>0.429625</td>\n",
       "      <td>7</td>\n",
       "    </tr>\n",
       "    <tr>\n",
       "      <th>3</th>\n",
       "      <td>13</td>\n",
       "      <td>[617.1527709960938, 23.468246459960938, 67.036...</td>\n",
       "      <td>0.404996</td>\n",
       "      <td>7</td>\n",
       "    </tr>\n",
       "    <tr>\n",
       "      <th>4</th>\n",
       "      <td>38</td>\n",
       "      <td>[402.9405212402344, 169.59471130371094, 81.468...</td>\n",
       "      <td>0.513599</td>\n",
       "      <td>7</td>\n",
       "    </tr>\n",
       "    <tr>\n",
       "      <th>...</th>\n",
       "      <td>...</td>\n",
       "      <td>...</td>\n",
       "      <td>...</td>\n",
       "      <td>...</td>\n",
       "    </tr>\n",
       "    <tr>\n",
       "      <th>662</th>\n",
       "      <td>4859</td>\n",
       "      <td>[406.2322998046875, 79.95795440673828, 74.3790...</td>\n",
       "      <td>0.428995</td>\n",
       "      <td>7</td>\n",
       "    </tr>\n",
       "    <tr>\n",
       "      <th>663</th>\n",
       "      <td>4866</td>\n",
       "      <td>[467.3731689453125, 555.6437377929688, 97.7508...</td>\n",
       "      <td>0.439356</td>\n",
       "      <td>0</td>\n",
       "    </tr>\n",
       "    <tr>\n",
       "      <th>664</th>\n",
       "      <td>4866</td>\n",
       "      <td>[278.31683349609375, 646.3544311523438, 76.338...</td>\n",
       "      <td>0.650072</td>\n",
       "      <td>5</td>\n",
       "    </tr>\n",
       "    <tr>\n",
       "      <th>665</th>\n",
       "      <td>4866</td>\n",
       "      <td>[662.4429321289062, 545.6422119140625, 81.4295...</td>\n",
       "      <td>0.534275</td>\n",
       "      <td>7</td>\n",
       "    </tr>\n",
       "    <tr>\n",
       "      <th>666</th>\n",
       "      <td>4866</td>\n",
       "      <td>[515.828125, 531.4932861328125, 40.71057128906...</td>\n",
       "      <td>0.401007</td>\n",
       "      <td>7</td>\n",
       "    </tr>\n",
       "  </tbody>\n",
       "</table>\n",
       "<p>667 rows × 4 columns</p>\n",
       "</div>"
      ],
      "text/plain": [
       "     image_id                                               bbox     score  \\\n",
       "0          13  [13.387908935546875, 471.632080078125, 76.5023...  0.609177   \n",
       "1          13  [8.561347961425781, 153.53492736816406, 78.640...  0.456528   \n",
       "2          13  [606.560302734375, 42.02838134765625, 104.2189...  0.429625   \n",
       "3          13  [617.1527709960938, 23.468246459960938, 67.036...  0.404996   \n",
       "4          38  [402.9405212402344, 169.59471130371094, 81.468...  0.513599   \n",
       "..        ...                                                ...       ...   \n",
       "662      4859  [406.2322998046875, 79.95795440673828, 74.3790...  0.428995   \n",
       "663      4866  [467.3731689453125, 555.6437377929688, 97.7508...  0.439356   \n",
       "664      4866  [278.31683349609375, 646.3544311523438, 76.338...  0.650072   \n",
       "665      4866  [662.4429321289062, 545.6422119140625, 81.4295...  0.534275   \n",
       "666      4866  [515.828125, 531.4932861328125, 40.71057128906...  0.401007   \n",
       "\n",
       "     category_id  \n",
       "0              0  \n",
       "1              7  \n",
       "2              7  \n",
       "3              7  \n",
       "4              7  \n",
       "..           ...  \n",
       "662            7  \n",
       "663            0  \n",
       "664            5  \n",
       "665            7  \n",
       "666            7  \n",
       "\n",
       "[667 rows x 4 columns]"
      ]
     },
     "execution_count": 142,
     "metadata": {},
     "output_type": "execute_result"
    }
   ],
   "source": [
    "with open(data_json_test, 'r') as outfile:\n",
    "    data_test = (json.load(outfile))\n",
    "\n",
    "df_test = pd.DataFrame(data_test) #이미지 데이터\n",
    "df_test"
   ]
  },
  {
   "cell_type": "code",
   "execution_count": null,
   "id": "16234d19-c7e0-4ce6-95af-5e833862ce9e",
   "metadata": {},
   "outputs": [],
   "source": []
  },
  {
   "cell_type": "code",
   "execution_count": 48,
   "id": "e5fce572-f1b1-45b8-bdf1-084a93de2248",
   "metadata": {},
   "outputs": [
    {
     "data": {
      "text/plain": [
       "'/opt/ml/detection/dataset/val_fold1.json'"
      ]
     },
     "execution_count": 48,
     "metadata": {},
     "output_type": "execute_result"
    }
   ],
   "source": [
    "data_json = '/opt/ml/detection/dataset/val_fold1.json'\n",
    "data_json"
   ]
  },
  {
   "cell_type": "code",
   "execution_count": 52,
   "id": "f6f366f0-f0bf-4c7b-b1b5-8e94cc37ffe0",
   "metadata": {},
   "outputs": [
    {
     "data": {
      "text/html": [
       "<div>\n",
       "<style scoped>\n",
       "    .dataframe tbody tr th:only-of-type {\n",
       "        vertical-align: middle;\n",
       "    }\n",
       "\n",
       "    .dataframe tbody tr th {\n",
       "        vertical-align: top;\n",
       "    }\n",
       "\n",
       "    .dataframe thead th {\n",
       "        text-align: right;\n",
       "    }\n",
       "</style>\n",
       "<table border=\"1\" class=\"dataframe\">\n",
       "  <thead>\n",
       "    <tr style=\"text-align: right;\">\n",
       "      <th></th>\n",
       "      <th>width</th>\n",
       "      <th>height</th>\n",
       "      <th>file_name</th>\n",
       "      <th>license</th>\n",
       "      <th>flickr_url</th>\n",
       "      <th>coco_url</th>\n",
       "      <th>date_captured</th>\n",
       "      <th>id</th>\n",
       "    </tr>\n",
       "  </thead>\n",
       "  <tbody>\n",
       "    <tr>\n",
       "      <th>0</th>\n",
       "      <td>1024</td>\n",
       "      <td>1024</td>\n",
       "      <td>train/0001.jpg</td>\n",
       "      <td>0</td>\n",
       "      <td>None</td>\n",
       "      <td>None</td>\n",
       "      <td>2021-01-10 16:30:39</td>\n",
       "      <td>1</td>\n",
       "    </tr>\n",
       "    <tr>\n",
       "      <th>1</th>\n",
       "      <td>1024</td>\n",
       "      <td>1024</td>\n",
       "      <td>train/0002.jpg</td>\n",
       "      <td>0</td>\n",
       "      <td>None</td>\n",
       "      <td>None</td>\n",
       "      <td>2020-12-27 17:55:52</td>\n",
       "      <td>2</td>\n",
       "    </tr>\n",
       "    <tr>\n",
       "      <th>2</th>\n",
       "      <td>1024</td>\n",
       "      <td>1024</td>\n",
       "      <td>train/0013.jpg</td>\n",
       "      <td>0</td>\n",
       "      <td>None</td>\n",
       "      <td>None</td>\n",
       "      <td>2020-12-31 23:57:47</td>\n",
       "      <td>13</td>\n",
       "    </tr>\n",
       "  </tbody>\n",
       "</table>\n",
       "</div>"
      ],
      "text/plain": [
       "   width  height       file_name  license flickr_url coco_url  \\\n",
       "0   1024    1024  train/0001.jpg        0       None     None   \n",
       "1   1024    1024  train/0002.jpg        0       None     None   \n",
       "2   1024    1024  train/0013.jpg        0       None     None   \n",
       "\n",
       "         date_captured  id  \n",
       "0  2021-01-10 16:30:39   1  \n",
       "1  2020-12-27 17:55:52   2  \n",
       "2  2020-12-31 23:57:47  13  "
      ]
     },
     "execution_count": 52,
     "metadata": {},
     "output_type": "execute_result"
    }
   ],
   "source": [
    "with open(data_json, 'r') as outfile:\n",
    "    data = (json.load(outfile))\n",
    "\n",
    "df_truth = pd.DataFrame(data['images']) #이미지 데이터\n",
    "df_truth_annotations = pd.DataFrame(data['annotations'])\n",
    "df_truth_categories = pd.DataFrame(data['categories'])\n",
    "df_truth.head(3)"
   ]
  },
  {
   "cell_type": "code",
   "execution_count": 53,
   "id": "80e805ee-770f-4b21-87d3-52a2f4b95350",
   "metadata": {},
   "outputs": [
    {
     "data": {
      "text/plain": [
       "989"
      ]
     },
     "execution_count": 53,
     "metadata": {},
     "output_type": "execute_result"
    }
   ],
   "source": [
    "len(df_truth)"
   ]
  },
  {
   "cell_type": "code",
   "execution_count": 54,
   "id": "bf95b7f6-612d-4078-8692-89ac1a1b1582",
   "metadata": {},
   "outputs": [],
   "source": [
    "check_list = df_test['image_id'].unique()\n",
    "\n",
    "def check_if_in(x):\n",
    "    \n",
    "    if x in check_list:\n",
    "        \n",
    "        return 'assume_over_1,2'\n",
    "    \n",
    "    else:\n",
    "        \n",
    "        return 'assume_under_1,2'\n",
    "\n",
    "df_truth['assume'] = df_truth['id'].apply(check_if_in)\n",
    "        "
   ]
  },
  {
   "cell_type": "code",
   "execution_count": 118,
   "id": "fff045b4-c2fe-473c-96e7-4d879e9a0e69",
   "metadata": {},
   "outputs": [
    {
     "name": "stdout",
     "output_type": "stream",
     "text": [
      "662\n"
     ]
    },
    {
     "data": {
      "text/html": [
       "<div>\n",
       "<style scoped>\n",
       "    .dataframe tbody tr th:only-of-type {\n",
       "        vertical-align: middle;\n",
       "    }\n",
       "\n",
       "    .dataframe tbody tr th {\n",
       "        vertical-align: top;\n",
       "    }\n",
       "\n",
       "    .dataframe thead th {\n",
       "        text-align: right;\n",
       "    }\n",
       "</style>\n",
       "<table border=\"1\" class=\"dataframe\">\n",
       "  <thead>\n",
       "    <tr style=\"text-align: right;\">\n",
       "      <th></th>\n",
       "      <th>image_id</th>\n",
       "    </tr>\n",
       "  </thead>\n",
       "  <tbody>\n",
       "    <tr>\n",
       "      <th>1</th>\n",
       "      <td>350</td>\n",
       "    </tr>\n",
       "    <tr>\n",
       "      <th>2</th>\n",
       "      <td>121</td>\n",
       "    </tr>\n",
       "  </tbody>\n",
       "</table>\n",
       "</div>"
      ],
      "text/plain": [
       "   image_id\n",
       "1       350\n",
       "2       121"
      ]
     },
     "execution_count": 118,
     "metadata": {},
     "output_type": "execute_result"
    }
   ],
   "source": [
    "df_under = df_truth.loc[df_truth['assume'] == 'assume_under_1,2']\n",
    "df_under = df_under.rename(columns={'id':'image_id'})\n",
    "df_under_ann = df_under.merge(df_truth_annotations, how='left', on='image_id')\n",
    "df_under_ann = df_under_ann.iloc[:, 7:]\n",
    "df_under_count = df_under_ann['image_id'].value_counts().value_counts().to_frame()\n",
    "print(df_under_count['image_id'].sum())\n",
    "df_under_count.head(2)"
   ]
  },
  {
   "cell_type": "code",
   "execution_count": 124,
   "id": "36c14ccf-fefb-494e-952e-a028a5b38e64",
   "metadata": {},
   "outputs": [
    {
     "name": "stdout",
     "output_type": "stream",
     "text": [
      "989\n"
     ]
    },
    {
     "data": {
      "text/html": [
       "<div>\n",
       "<style scoped>\n",
       "    .dataframe tbody tr th:only-of-type {\n",
       "        vertical-align: middle;\n",
       "    }\n",
       "\n",
       "    .dataframe tbody tr th {\n",
       "        vertical-align: top;\n",
       "    }\n",
       "\n",
       "    .dataframe thead th {\n",
       "        text-align: right;\n",
       "    }\n",
       "</style>\n",
       "<table border=\"1\" class=\"dataframe\">\n",
       "  <thead>\n",
       "    <tr style=\"text-align: right;\">\n",
       "      <th></th>\n",
       "      <th>image_id</th>\n",
       "    </tr>\n",
       "  </thead>\n",
       "  <tbody>\n",
       "    <tr>\n",
       "      <th>1</th>\n",
       "      <td>398</td>\n",
       "    </tr>\n",
       "    <tr>\n",
       "      <th>2</th>\n",
       "      <td>160</td>\n",
       "    </tr>\n",
       "  </tbody>\n",
       "</table>\n",
       "</div>"
      ],
      "text/plain": [
       "   image_id\n",
       "1       398\n",
       "2       160"
      ]
     },
     "execution_count": 124,
     "metadata": {},
     "output_type": "execute_result"
    }
   ],
   "source": [
    "df_truth = df_truth.rename(columns={'id':'image_id'})\n",
    "df_truth_ann = df_truth.merge(df_truth_annotations, how='left', on='image_id')\n",
    "df_truth_count = df_truth_ann['image_id'].value_counts().value_counts().to_frame()\n",
    "print(df_truth_count['image_id'].sum())\n",
    "df_truth_count.head(2)"
   ]
  },
  {
   "cell_type": "code",
   "execution_count": 136,
   "id": "d2fdd83e-3cba-4a72-8dac-6f3bb6961c34",
   "metadata": {},
   "outputs": [
    {
     "data": {
      "image/png": "[encoded data removed]",
      "text/plain": [
       "<Figure size 1152x432 with 1 Axes>"
      ]
     },
     "metadata": {
      "needs_background": "light"
     },
     "output_type": "display_data"
    }
   ],
   "source": [
    "fig, ax = plt.subplots(1,1, figsize=(16,6))\n",
    "\n",
    "ax.bar(df_under_count.index, df_under_count['image_id'], color='dodgerblue', alpha=1)\n",
    "ax.bar(df_truth_count.index, df_truth_count['image_id'],  color='tomato', alpha=0.7)\n",
    "ax.margins(0.03)\n",
    "ax.set(frame_on=False)\n",
    "for idx, val in df_under_count['image_id'].iteritems():\n",
    "    if idx <= 10:\n",
    "        ax.text(x=idx, y=val+2, s=val,\n",
    "                va='bottom', ha='center',\n",
    "                fontsize=8)\n",
    "    \n",
    "for idx, val in df_truth_count['image_id'].iteritems():\n",
    "    if idx <= 10:\n",
    "        ax.text(x=idx, y=val+2, s=val,\n",
    "                va='bottom', ha='center',\n",
    "                fontsize=8)"
   ]
  },
  {
   "cell_type": "code",
   "execution_count": 141,
   "id": "9bda57bf-9b42-4df1-8c1d-c329c4bedfd9",
   "metadata": {},
   "outputs": [
    {
     "data": {
      "text/plain": [
       "0.75625"
      ]
     },
     "execution_count": 141,
     "metadata": {},
     "output_type": "execute_result"
    }
   ],
   "source": [
    "121/160"
   ]
  }
 ],
 "metadata": {
  "kernelspec": {
   "display_name": "detection",
   "language": "python",
   "name": "detection"
  },
  "language_info": {
   "codemirror_mode": {
    "name": "ipython",
    "version": 3
   },
   "file_extension": ".py",
   "mimetype": "text/x-python",
   "name": "python",
   "nbconvert_exporter": "python",
   "pygments_lexer": "ipython3",
   "version": "3.7.11"
  }
 },
 "nbformat": 4,
 "nbformat_minor": 5
}
