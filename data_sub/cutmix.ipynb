{
 "cells": [
  {
   "cell_type": "code",
   "execution_count": 34,
   "metadata": {},
   "outputs": [],
   "source": [
    "import json\n",
    "import random\n",
    "import cv2\n",
    "import matplotlib.pyplot as plt\n",
    "import shutil\n",
    "import os\n",
    "from coco_tools import *"
   ]
  },
  {
   "cell_type": "code",
   "execution_count": 35,
   "metadata": {},
   "outputs": [],
   "source": [
    "target_cnt = 2000     # target_cnt 미만인 class들을 target_cnt 근처로 개수를 맞춰줌\n",
    "maximum_IoU = 0.2     # 합성할 때 배경 이미지의 객체들과 겹치는 허용 정도\n",
    "low_area = 5000       # 합성할 최소 사이즈\n",
    "max_area = 100000     # 합성할 최대 사이즈\n",
    "max_object_in_backgound = 5\n",
    "dataset_path = '../dataset/'\n",
    "random.seed(10)"
   ]
  },
  {
   "cell_type": "code",
   "execution_count": 37,
   "metadata": {},
   "outputs": [],
   "source": [
    "os.makedirs(\"../dataset/cutmix_train\", exist_ok=True)"
   ]
  },
  {
   "cell_type": "code",
   "execution_count": 38,
   "metadata": {},
   "outputs": [],
   "source": [
    "# train 이미지들 new_train 폴더에 복사\n",
    "for img_dir in os.listdir('/opt/ml/detection/dataset/train'):\n",
    "    shutil.copyfile(f\"/opt/ml/detection/dataset/train/{img_dir}\", f\"/opt/ml/detection/dataset/cutmix_train/{img_dir}\")"
   ]
  },
  {
   "cell_type": "code",
   "execution_count": 39,
   "metadata": {},
   "outputs": [],
   "source": [
    "with open('../dataset/train.json', 'r') as f:\n",
    "    train_json = json.load(f)"
   ]
  },
  {
   "cell_type": "code",
   "execution_count": 40,
   "metadata": {},
   "outputs": [],
   "source": [
    "# train_josn의 이미지 경로 /train -> /new_train으로 바꿈\n",
    "for x, i in enumerate(train_json['images']):\n",
    "    train_json['images'][x]['file_name'] = train_json['images'][x]['file_name'].replace('train', 'new_train')"
   ]
  },
  {
   "cell_type": "code",
   "execution_count": 41,
   "metadata": {},
   "outputs": [
    {
     "data": {
      "text/plain": [
       "[3966, 6352, 897, 936, 982, 2943, 1263, 5178, 159, 468]"
      ]
     },
     "execution_count": 41,
     "metadata": {},
     "output_type": "execute_result"
    }
   ],
   "source": [
    "# 1000개 미만인 class들만 list로 각 클래스 별로 annotation 정보 담기\n",
    "section = [[i for i in train_json['annotations'] if i['category_id'] == j] for j in range(10)]\n",
    "low_quantity_class = [x for x, i in enumerate(section) if len(i) < target_cnt]\n",
    "low_quantity_annotations = [[i for i in train_json['annotations'] if i['category_id'] == j] for j in low_quantity_class]\n",
    "[len(i) for i in section]"
   ]
  },
  {
   "cell_type": "code",
   "execution_count": 42,
   "metadata": {},
   "outputs": [],
   "source": [
    "# 이미지에 객체가 5개 이하인 이미지 \n",
    "under_5_img = [i for i in range(len(train_json['images'])) if len(get_annotations(train_json, i)) <= max_object_in_backgound]\n",
    "\n",
    "for x, low_classes in enumerate(low_quantity_annotations):\n",
    "    for i in range(target_cnt // len(low_classes)):\n",
    "        for low_class in low_classes:\n",
    "            background_img_num = random.choice(under_5_img)\n",
    "            background_anns = get_annotations(train_json, background_img_num)\n",
    "            if len(background_anns) == max_object_in_backgound: \n",
    "                under_5_img.remove(background_img_num)\n",
    "\n",
    "            background_img_path = get_file_path(train_json, background_img_num)\n",
    "            background_img = read_image(dataset_path, background_img_path)\n",
    "            if low_class['area'] < low_area or low_class['area'] > max_area: \n",
    "                continue\n",
    "            object_img_path = get_file_path(train_json, low_class['image_id'])\n",
    "            object_img = read_image(dataset_path, object_img_path)\n",
    "            object_img_bbox = map(int, low_class['bbox'])\n",
    "\n",
    "            xmin, ymin, w, h = object_img_bbox\n",
    "            object_img_cut = object_img[ymin:ymin+h, xmin:xmin+w].copy()\n",
    "\n",
    "            # 합성할 이미지와 배경이미지들의 객체의 IoU가 다 0.2 미만일 때까지 랜덤 위치 추출\n",
    "            cnt = 0\n",
    "            while True:\n",
    "                new_xmin, new_ymin = random.randint(0, 1025 - w - 1), random.randint(0, 1025 - h - 1)\n",
    "                new_box = [new_xmin, new_ymin, new_xmin+w, new_ymin+h]\n",
    "                ann = background_anns[0]\n",
    "                check = [\n",
    "                        True if IoU(new_box, [ann[0], ann[1], ann[0]+ann[2], ann[1]+ann[3]]) < maximum_IoU \n",
    "                        else False for ann in background_anns\n",
    "                        ]\n",
    "                cnt += 1\n",
    "                if all(check) or cnt == 1000: break\n",
    "            if cnt == 1000: continue\n",
    "\n",
    "            # 추가한 부분 train_json의 annotations부분에 append\n",
    "            train_json['annotations'].append({\n",
    "                                \"image_id\": background_img_num,\n",
    "                                \"category_id\": low_quantity_class[x],\n",
    "                                \"area\": low_class['area'],\n",
    "                                \"bbox\": [new_xmin, new_ymin, w, h],\n",
    "                                \"iscrowd\": 0,\n",
    "                                \"id\": len(train_json['annotations'])\n",
    "                                })\n",
    "            combine_img = background_img.copy()\n",
    "            combine_img[new_ymin:new_ymin+h, new_xmin:new_xmin+w] = object_img_cut\n",
    "            # print(background_img_path) # 합성한 이미지 경로 보기\n",
    "            cv2.imwrite(os.path.join('../dataset/', background_img_path), combine_img)          "
   ]
  },
  {
   "cell_type": "code",
   "execution_count": 43,
   "metadata": {},
   "outputs": [],
   "source": [
    "# 수정된 train_json을 new_train.json파일로 저장\n",
    "with open('../dataset/new_train5.json', 'w', encoding=\"utf-8\") as f:\n",
    "    json.dump(train_json, f,ensure_ascii=False,indent=\"\\t\")"
   ]
  },
  {
   "cell_type": "code",
   "execution_count": 44,
   "metadata": {},
   "outputs": [
    {
     "data": {
      "text/plain": [
       "[3966, 6352, 1887, 1862, 2290, 2943, 2025, 5178, 1827, 1268]"
      ]
     },
     "execution_count": 44,
     "metadata": {},
     "output_type": "execute_result"
    }
   ],
   "source": [
    "# 각 클래스별 개수 보기\n",
    "section = [[i for i in train_json['annotations'] if i['category_id'] == j] for j in range(10)]\n",
    "[len(i) for i in section]"
   ]
  }
 ],
 "metadata": {
  "colab": {
   "collapsed_sections": [],
   "name": "EfficientDet_train.ipynb",
   "provenance": []
  },
  "interpreter": {
   "hash": "b94c6de4bce9a87a354a5fa9998691adc0532adddb9d4140f5ba941d00b01fae"
  },
  "kernelspec": {
   "display_name": "Python 3.7.11 64-bit ('detection': conda)",
   "name": "python3"
  },
  "language_info": {
   "codemirror_mode": {
    "name": "ipython",
    "version": 3
   },
   "file_extension": ".py",
   "mimetype": "text/x-python",
   "name": "python",
   "nbconvert_exporter": "python",
   "pygments_lexer": "ipython3",
   "version": "3.7.11"
  }
 },
 "nbformat": 4,
 "nbformat_minor": 4
}
