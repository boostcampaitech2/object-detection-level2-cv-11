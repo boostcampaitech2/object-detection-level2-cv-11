{
 "cells": [
  {
   "cell_type": "code",
   "execution_count": 178,
   "source": [
    "import pandas as pd\n",
    "import os\n",
    "from ensemble_boxes import *\n",
    "import numpy as np"
   ],
   "outputs": [],
   "metadata": {}
  },
  {
   "cell_type": "code",
   "execution_count": 230,
   "source": [
    "model_path = '../models'\n",
    "ensemble_list = os.listdir(model_path)\n",
    "models = [pd.read_csv(os.path.join(model_path, _)) for _ in ensemble_list]\n",
    "ensemble_list"
   ],
   "outputs": [
    {
     "output_type": "execute_result",
     "data": {
      "text/plain": [
       "['494.csv', '538.csv', '503.csv']"
      ]
     },
     "metadata": {},
     "execution_count": 230
    }
   ],
   "metadata": {}
  },
  {
   "cell_type": "code",
   "execution_count": 231,
   "source": [
    "boxes_list = [[[] for i in range(len(models))] for _ in range(4871)]\n",
    "scores_list = [[[] for i in range(len(models))] for _ in range(4871)]\n",
    "labels_list = [[[] for i in range(len(models))] for _ in range(4871)]"
   ],
   "outputs": [],
   "metadata": {}
  },
  {
   "cell_type": "code",
   "execution_count": 232,
   "source": [
    "for model_num, model in enumerate(models):\n",
    "    for img_num, img in enumerate(model['PredictionString']):\n",
    "        try:\n",
    "            img = img.split()\n",
    "        except:\n",
    "            continue\n",
    "        for pos in range(0, len(img), 6):\n",
    "            obj = list(map(float, img[pos:pos+6]))\n",
    "            label, score, box = int(obj[0]), float(obj[1]), np.array(obj[2:]) / 1024\n",
    "            boxes_list[img_num][model_num].append(box)\n",
    "            scores_list[img_num][model_num].append(score)\n",
    "            labels_list[img_num][model_num].append(label)\n"
   ],
   "outputs": [],
   "metadata": {}
  },
  {
   "cell_type": "code",
   "execution_count": 233,
   "source": [
    "iou_thr = 0.4\n",
    "skip_box_thr = 0.0001\n",
    "sigma = 0.1"
   ],
   "outputs": [],
   "metadata": {}
  },
  {
   "cell_type": "code",
   "execution_count": 234,
   "source": [
    "for i in range(len(boxes_list)):\n",
    "    boxes, scores, labels = weighted_boxes_fusion(\n",
    "                                                boxes_list[i], scores_list[i], labels_list[i], \n",
    "                                                iou_thr=iou_thr, skip_box_thr=skip_box_thr\n",
    "                                                )\n",
    "    boxes_list[i], scores_list[i], labels_list[i] = boxes * 1024, scores, labels   "
   ],
   "outputs": [],
   "metadata": {}
  },
  {
   "cell_type": "code",
   "execution_count": 235,
   "source": [
    "predictionstring = []\n",
    "file_names = []\n",
    "for img_predict in range(len(boxes_list)):\n",
    "    file_names.append(models[0]['image_id'][img_predict])\n",
    "    prediction_string = ''\n",
    "    for label, score, box in zip(labels_list[img_predict], scores_list[img_predict], boxes_list[img_predict].tolist()):\n",
    "        prediction = [str(label)] + [str(score)] + list(map(str, box))\n",
    "        prediction_string += ' '.join(prediction) + ' '\n",
    "    predictionstring.append(prediction_string)"
   ],
   "outputs": [],
   "metadata": {}
  },
  {
   "cell_type": "code",
   "execution_count": 236,
   "source": [
    "submission = pd.DataFrame()\n",
    "submission['PredictionString'] = predictionstring\n",
    "submission['image_id'] = file_names\n",
    "submission.to_csv(os.path.join('../ensemble/ensemble.csv'), index=None)\n",
    "submission.head()"
   ],
   "outputs": [
    {
     "output_type": "execute_result",
     "data": {
      "text/html": [
       "<div>\n",
       "<style scoped>\n",
       "    .dataframe tbody tr th:only-of-type {\n",
       "        vertical-align: middle;\n",
       "    }\n",
       "\n",
       "    .dataframe tbody tr th {\n",
       "        vertical-align: top;\n",
       "    }\n",
       "\n",
       "    .dataframe thead th {\n",
       "        text-align: right;\n",
       "    }\n",
       "</style>\n",
       "<table border=\"1\" class=\"dataframe\">\n",
       "  <thead>\n",
       "    <tr style=\"text-align: right;\">\n",
       "      <th></th>\n",
       "      <th>PredictionString</th>\n",
       "      <th>image_id</th>\n",
       "    </tr>\n",
       "  </thead>\n",
       "  <tbody>\n",
       "    <tr>\n",
       "      <th>0</th>\n",
       "      <td>7.0 0.999428391456604 601.418212890625 510.033...</td>\n",
       "      <td>test/0000.jpg</td>\n",
       "    </tr>\n",
       "    <tr>\n",
       "      <th>1</th>\n",
       "      <td>5.0 0.9586414098739624 139.74026489257812 1.43...</td>\n",
       "      <td>test/0001.jpg</td>\n",
       "    </tr>\n",
       "    <tr>\n",
       "      <th>2</th>\n",
       "      <td>1.0 0.9560907483100891 424.93572998046875 266....</td>\n",
       "      <td>test/0002.jpg</td>\n",
       "    </tr>\n",
       "    <tr>\n",
       "      <th>3</th>\n",
       "      <td>9.0 0.8247147798538208 109.2036361694336 202.4...</td>\n",
       "      <td>test/0003.jpg</td>\n",
       "    </tr>\n",
       "    <tr>\n",
       "      <th>4</th>\n",
       "      <td>0.0 0.42736950516700745 416.55792236328125 373...</td>\n",
       "      <td>test/0004.jpg</td>\n",
       "    </tr>\n",
       "  </tbody>\n",
       "</table>\n",
       "</div>"
      ],
      "text/plain": [
       "                                    PredictionString       image_id\n",
       "0  7.0 0.999428391456604 601.418212890625 510.033...  test/0000.jpg\n",
       "1  5.0 0.9586414098739624 139.74026489257812 1.43...  test/0001.jpg\n",
       "2  1.0 0.9560907483100891 424.93572998046875 266....  test/0002.jpg\n",
       "3  9.0 0.8247147798538208 109.2036361694336 202.4...  test/0003.jpg\n",
       "4  0.0 0.42736950516700745 416.55792236328125 373...  test/0004.jpg"
      ]
     },
     "metadata": {},
     "execution_count": 236
    }
   ],
   "metadata": {}
  },
  {
   "cell_type": "code",
   "execution_count": 240,
   "source": [
    "print(len(submission['PredictionString'][0].split()) // 6)\n",
    "for i in range(3):\n",
    "    print(len(models[i]['PredictionString'][0].split()) // 6)"
   ],
   "outputs": [
    {
     "output_type": "stream",
     "name": "stdout",
     "text": [
      "101\n",
      "61\n",
      "75\n",
      "78\n"
     ]
    }
   ],
   "metadata": {}
  },
  {
   "cell_type": "code",
   "execution_count": null,
   "source": [],
   "outputs": [],
   "metadata": {}
  }
 ],
 "metadata": {
  "kernelspec": {
   "name": "python3",
   "display_name": "Python 3.7.11 64-bit ('detection': conda)"
  },
  "language_info": {
   "codemirror_mode": {
    "name": "ipython",
    "version": 3
   },
   "file_extension": ".py",
   "mimetype": "text/x-python",
   "name": "python",
   "nbconvert_exporter": "python",
   "pygments_lexer": "ipython3",
   "version": "3.7.11"
  },
  "interpreter": {
   "hash": "29b0cbc8c2bc4924fb253dd9334aba0cc9ad3225fd824ea55dea16089b664698"
  }
 },
 "nbformat": 4,
 "nbformat_minor": 5
}