{
 "cells": [
  {
   "cell_type": "code",
   "execution_count": 8,
   "id": "61808fbd",
   "metadata": {},
   "outputs": [],
   "source": [
    "import pandas as pd\n",
    "import numpy as np\n",
    "import json\n",
    "import seaborn as sns\n",
    "import os\n",
    "import cv2\n",
    "from tqdm import tqdm_notebook\n",
    "from matplotlib import pyplot as plt\n",
    "from PIL import Image"
   ]
  },
  {
   "cell_type": "code",
   "execution_count": 9,
   "id": "e1362247",
   "metadata": {},
   "outputs": [
    {
     "data": {
      "text/plain": [
       "'/opt/ml/detection/dataset/new_train.json'"
      ]
     },
     "metadata": {},
     "output_type": "display_data"
    }
   ],
   "source": [
    "data_json = '/opt/ml/detection/dataset/train.json\n",
    "data_json"
   ]
  },
  {
   "cell_type": "code",
   "execution_count": 10,
   "id": "0f1b5b3c",
   "metadata": {},
   "outputs": [],
   "source": [
    "with open(data_json, 'r') as outfile:\n",
    "    data = (json.load(outfile))\n",
    "\n",
    "df_image = pd.DataFrame(data['images']) #이미지 데이터\n",
    "df_annotation = pd.DataFrame(data['annotations']) #bbox \n",
    "df_categories = pd.DataFrame(data['categories']) #categories"
   ]
  },
  {
   "cell_type": "code",
   "execution_count": 11,
   "id": "0f219457",
   "metadata": {},
   "outputs": [],
   "source": [
    "#한번 실행 후 주석처리 해주세요\n",
    "# os.mkdir('/opt/ml/detection/dataset/new_annotated')"
   ]
  },
  {
   "cell_type": "code",
   "execution_count": 12,
   "id": "5346624d",
   "metadata": {},
   "outputs": [],
   "source": [
    "df_image = df_image.sort_values(by=['id'])\n",
    "df_annotation = df_annotation.sort_values(by=['image_id'])"
   ]
  },
  {
   "cell_type": "code",
   "execution_count": 13,
   "id": "f49e0d72",
   "metadata": {},
   "outputs": [
    {
     "data": {
      "text/html": [
       "<div>\n",
       "<style scoped>\n",
       "    .dataframe tbody tr th:only-of-type {\n",
       "        vertical-align: middle;\n",
       "    }\n",
       "\n",
       "    .dataframe tbody tr th {\n",
       "        vertical-align: top;\n",
       "    }\n",
       "\n",
       "    .dataframe thead th {\n",
       "        text-align: right;\n",
       "    }\n",
       "</style>\n",
       "<table border=\"1\" class=\"dataframe\">\n",
       "  <thead>\n",
       "    <tr style=\"text-align: right;\">\n",
       "      <th></th>\n",
       "      <th>id</th>\n",
       "      <th>name</th>\n",
       "      <th>supercategory</th>\n",
       "      <th>color</th>\n",
       "    </tr>\n",
       "  </thead>\n",
       "  <tbody>\n",
       "    <tr>\n",
       "      <th>0</th>\n",
       "      <td>0</td>\n",
       "      <td>General trash</td>\n",
       "      <td>General trash</td>\n",
       "      <td>0,255,255</td>\n",
       "    </tr>\n",
       "    <tr>\n",
       "      <th>1</th>\n",
       "      <td>1</td>\n",
       "      <td>Paper</td>\n",
       "      <td>Paper</td>\n",
       "      <td>102, 0, 0</td>\n",
       "    </tr>\n",
       "    <tr>\n",
       "      <th>2</th>\n",
       "      <td>2</td>\n",
       "      <td>Paper pack</td>\n",
       "      <td>Paper pack</td>\n",
       "      <td>0, 100, 255</td>\n",
       "    </tr>\n",
       "    <tr>\n",
       "      <th>3</th>\n",
       "      <td>3</td>\n",
       "      <td>Metal</td>\n",
       "      <td>Metal</td>\n",
       "      <td>255,150,150</td>\n",
       "    </tr>\n",
       "    <tr>\n",
       "      <th>4</th>\n",
       "      <td>4</td>\n",
       "      <td>Glass</td>\n",
       "      <td>Glass</td>\n",
       "      <td>255, 100, 0</td>\n",
       "    </tr>\n",
       "    <tr>\n",
       "      <th>5</th>\n",
       "      <td>5</td>\n",
       "      <td>Plastic</td>\n",
       "      <td>Plastic</td>\n",
       "      <td>255, 200, 0</td>\n",
       "    </tr>\n",
       "    <tr>\n",
       "      <th>6</th>\n",
       "      <td>6</td>\n",
       "      <td>Styrofoam</td>\n",
       "      <td>Styrofoam</td>\n",
       "      <td>100, 150, 50</td>\n",
       "    </tr>\n",
       "    <tr>\n",
       "      <th>7</th>\n",
       "      <td>7</td>\n",
       "      <td>Plastic bag</td>\n",
       "      <td>Plastic bag</td>\n",
       "      <td>150,100,255</td>\n",
       "    </tr>\n",
       "    <tr>\n",
       "      <th>8</th>\n",
       "      <td>8</td>\n",
       "      <td>Battery</td>\n",
       "      <td>Battery</td>\n",
       "      <td>200, 255, 255</td>\n",
       "    </tr>\n",
       "    <tr>\n",
       "      <th>9</th>\n",
       "      <td>9</td>\n",
       "      <td>Clothing</td>\n",
       "      <td>Clothing</td>\n",
       "      <td>180, 220, 145</td>\n",
       "    </tr>\n",
       "  </tbody>\n",
       "</table>\n",
       "</div>"
      ],
      "text/plain": [
       "   id           name  supercategory          color\n",
       "0   0  General trash  General trash      0,255,255\n",
       "1   1          Paper          Paper      102, 0, 0\n",
       "2   2     Paper pack     Paper pack    0, 100, 255\n",
       "3   3          Metal          Metal    255,150,150\n",
       "4   4          Glass          Glass    255, 100, 0\n",
       "5   5        Plastic        Plastic    255, 200, 0\n",
       "6   6      Styrofoam      Styrofoam   100, 150, 50\n",
       "7   7    Plastic bag    Plastic bag    150,100,255\n",
       "8   8        Battery        Battery  200, 255, 255\n",
       "9   9       Clothing       Clothing  180, 220, 145"
      ]
     },
     "metadata": {},
     "output_type": "display_data"
    }
   ],
   "source": [
    "#BGR 순서\n",
    "Category_color = pd.DataFrame({'150,100,255', '0,255,255', '255, 200, 0', '255, 100, 0', '100, 150, 50', '0, 100, 255', '102, 0, 0', '180, 220, 145', '200, 255, 255', '255,150,150'}, columns=['color'])\n",
    "df_categories['color'] = Category_color\n",
    "df_categories"
   ]
  },
  {
   "cell_type": "code",
   "execution_count": 14,
   "id": "7fcb76a9",
   "metadata": {},
   "outputs": [
    {
     "name": "stderr",
     "output_type": "stream",
     "text": [
      "/opt/conda/envs/detection/lib/python3.7/site-packages/ipykernel_launcher.py:2: TqdmDeprecationWarning: This function will be removed in tqdm==5.0.0\n",
      "Please use `tqdm.notebook.tqdm` instead of `tqdm.tqdm_notebook`\n",
      "  \n"
     ]
    },
    {
     "data": {
      "application/vnd.jupyter.widget-view+json": {
       "model_id": "630e38543ad14cdb8c3f47201d3380c8",
       "version_major": 2,
       "version_minor": 0
      },
      "text/plain": [
       "  0%|          | 0/4883 [00:00<?, ?it/s]"
      ]
     },
     "metadata": {},
     "output_type": "display_data"
    }
   ],
   "source": [
    "base_dir = '/opt/ml/detection/dataset/'\n",
    "for i in tqdm_notebook(range(len(df_image))):\n",
    "    \n",
    "    file_name =  df_image.iloc[i]['file_name']\n",
    "\n",
    "    img = cv2.imread(base_dir + file_name)\n",
    "    img = cv2.cvtColor(img, cv2.COLOR_BGR2RGB)\n",
    "    \n",
    "    img_id = df_image.iloc[i]['id']\n",
    "    df_cb = df_annotation.loc[df_annotation['image_id'] == img_id][['category_id', 'bbox']]\n",
    "    \n",
    "    for i in range(len(df_cb)):\n",
    "        \n",
    "        x, y = list(map(int, df_cb['bbox'].iloc[i][0:2]))\n",
    "        width, height = list(map(int, df_cb['bbox'].iloc[i][2:4]))\n",
    "        name = df_categories.loc[df_cb['category_id'].iloc[i]]['name']\n",
    "        B, G, R = list(map(int, df_categories.loc[df_cb['category_id'].iloc[i]]['color'].split(',')))\n",
    "        img = cv2.rectangle(img, (x, y), (x+width, y+height), (B, G, R), 2)\n",
    "\n",
    "    img2 = np.full((1024, 400, 3), 255, np.uint8)\n",
    "\n",
    "    for i in range(10):\n",
    "        point_text = 30, 100 + (i*85)\n",
    "        point_color1 = 280, 100 + (i*85)\n",
    "        point_color2 = 370, 130 + (i*85) - 50\n",
    "\n",
    "        B, G, R = list(map(int, df_categories.iloc[i]['color'].split(',')))\n",
    "        name = df_categories['name'].iloc[i] + ':'\n",
    "\n",
    "        img2 = cv2.putText(img2, name, point_text, 0, 1, (0,0,0), 2)\n",
    "        img2 = cv2.rectangle(img2, point_color1, point_color2, (B,G,R), -1)\n",
    "    \n",
    "    final_img = np.hstack((img, img2))\n",
    "    \n",
    "    _, file_name = file_name.split('/')\n",
    "    #이미지 저장\n",
    "    plt.imsave(f'/opt/ml/detection/dataset/new_annotated/{file_name}',final_img)"
   ]
  },
  {
   "cell_type": "code",
   "execution_count": null,
   "id": "745ec33e",
   "metadata": {},
   "outputs": [],
   "source": []
  }
 ],
 "metadata": {
  "interpreter": {
   "hash": "29b0cbc8c2bc4924fb253dd9334aba0cc9ad3225fd824ea55dea16089b664698"
  },
  "kernelspec": {
   "display_name": "Python 3 (ipykernel)",
   "language": "python",
   "name": "python3"
  },
  "language_info": {
   "codemirror_mode": {
    "name": "ipython",
    "version": 3
   },
   "file_extension": ".py",
   "mimetype": "text/x-python",
   "name": "python",
   "nbconvert_exporter": "python",
   "pygments_lexer": "ipython3",
   "version": "3.7.11"
  }
 },
 "nbformat": 4,
 "nbformat_minor": 5
}
